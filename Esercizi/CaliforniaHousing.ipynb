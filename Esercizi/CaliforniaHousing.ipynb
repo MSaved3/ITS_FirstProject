{
 "cells": [
  {
   "cell_type": "markdown",
   "metadata": {},
   "source": [
    "# Un progetto dall'inizio alla fine: lavoriamo con dati reali\n",
    "\n",
    "Siete stati assunti come Data Specialist da una azienda che svolge analisi statistiche del mercato immobiliare americano. Ecco gli step che realizzeremo in questo progetto: Il vostro compito e' predirre il prezzo di una casa in california dato il numero di stanze e la posizione e altre carateristiche. <br>\n",
    "\n",
    "La checklist semplificata del progetto sara':\n",
    "\n",
    "- [] Guardiamo al quadro generale (Big Picture)\n",
    "- [] Procuriamoci i dati\n",
    "- [] Analizziamo e visualizziamo i dati per acquisirne consapevolezza\n",
    "- [] Prepara i dati per l'algoritmo di Machine Learning\n",
    "- [] Seleziona il modello e addesteralo\n",
    "- [] Ottimizza il modello con una messa a punto \n",
    "- [] Presenta la soluzione\n",
    "- [] Lancia, Monitora e Mantieni il tuo modello"
   ]
  },
  {
   "cell_type": "markdown",
   "metadata": {},
   "source": [
    "## 1 - The Big Picture, inquadriamo il problema\n",
    "### 1.1 - La fonte dei dati:\n",
    "- Repository popolari:\n",
    "    - [Irvine](https://archive.ics.uci.edu)\n",
    "    - [Kaggle](https://www.kaggle.com)\n",
    "    - [Amazone AWS](https://registry.opendata.aws)\n",
    "- Meta Portali:\n",
    "    - [Data Portals](https://dataportals.org)\n",
    "    - [Open Data Watch](https://opendatawatch.com/monitoring/)\n",
    "    - [Quandl](https://data.nasdaq.com/publishers/QDL)\n",
    "- Raccolte di link a repo:\n",
    "    - [Quora](https://www.quora.com/Where-can-I-find-large-datasets-open-to-the-public)\n",
    "    - [Wikipedia](https://en.wikipedia.org/wiki/List_of_datasets_for_machine-learning_research)\n",
    "    - [Reddit](https://www.reddit.com/r/datasets/) \n",
    "\n",
    "### 1.2 - Procuriamoci i dati:\n",
    "Per il download dei dati da web e' sempre conveniente scrivere una funzione che possa essere richiamata in automatcoa seconda delle esigenze.\n"
   ]
  },
  {
   "cell_type": "code",
   "execution_count": 1,
   "metadata": {},
   "outputs": [
    {
     "data": {
      "text/html": [
       "<div>\n",
       "<style scoped>\n",
       "    .dataframe tbody tr th:only-of-type {\n",
       "        vertical-align: middle;\n",
       "    }\n",
       "\n",
       "    .dataframe tbody tr th {\n",
       "        vertical-align: top;\n",
       "    }\n",
       "\n",
       "    .dataframe thead th {\n",
       "        text-align: right;\n",
       "    }\n",
       "</style>\n",
       "<table border=\"1\" class=\"dataframe\">\n",
       "  <thead>\n",
       "    <tr style=\"text-align: right;\">\n",
       "      <th></th>\n",
       "      <th>longitude</th>\n",
       "      <th>latitude</th>\n",
       "      <th>housing_median_age</th>\n",
       "      <th>total_rooms</th>\n",
       "      <th>total_bedrooms</th>\n",
       "      <th>population</th>\n",
       "      <th>households</th>\n",
       "      <th>median_income</th>\n",
       "      <th>median_house_value</th>\n",
       "      <th>ocean_proximity</th>\n",
       "    </tr>\n",
       "  </thead>\n",
       "  <tbody>\n",
       "    <tr>\n",
       "      <th>0</th>\n",
       "      <td>-122.23</td>\n",
       "      <td>37.88</td>\n",
       "      <td>41.0</td>\n",
       "      <td>880.0</td>\n",
       "      <td>129.0</td>\n",
       "      <td>322.0</td>\n",
       "      <td>126.0</td>\n",
       "      <td>8.3252</td>\n",
       "      <td>452600.0</td>\n",
       "      <td>NEAR BAY</td>\n",
       "    </tr>\n",
       "    <tr>\n",
       "      <th>1</th>\n",
       "      <td>-122.22</td>\n",
       "      <td>37.86</td>\n",
       "      <td>21.0</td>\n",
       "      <td>7099.0</td>\n",
       "      <td>1106.0</td>\n",
       "      <td>2401.0</td>\n",
       "      <td>1138.0</td>\n",
       "      <td>8.3014</td>\n",
       "      <td>358500.0</td>\n",
       "      <td>NEAR BAY</td>\n",
       "    </tr>\n",
       "    <tr>\n",
       "      <th>2</th>\n",
       "      <td>-122.24</td>\n",
       "      <td>37.85</td>\n",
       "      <td>52.0</td>\n",
       "      <td>1467.0</td>\n",
       "      <td>190.0</td>\n",
       "      <td>496.0</td>\n",
       "      <td>177.0</td>\n",
       "      <td>7.2574</td>\n",
       "      <td>352100.0</td>\n",
       "      <td>NEAR BAY</td>\n",
       "    </tr>\n",
       "    <tr>\n",
       "      <th>3</th>\n",
       "      <td>-122.25</td>\n",
       "      <td>37.85</td>\n",
       "      <td>52.0</td>\n",
       "      <td>1274.0</td>\n",
       "      <td>235.0</td>\n",
       "      <td>558.0</td>\n",
       "      <td>219.0</td>\n",
       "      <td>5.6431</td>\n",
       "      <td>341300.0</td>\n",
       "      <td>NEAR BAY</td>\n",
       "    </tr>\n",
       "    <tr>\n",
       "      <th>4</th>\n",
       "      <td>-122.25</td>\n",
       "      <td>37.85</td>\n",
       "      <td>52.0</td>\n",
       "      <td>1627.0</td>\n",
       "      <td>280.0</td>\n",
       "      <td>565.0</td>\n",
       "      <td>259.0</td>\n",
       "      <td>3.8462</td>\n",
       "      <td>342200.0</td>\n",
       "      <td>NEAR BAY</td>\n",
       "    </tr>\n",
       "  </tbody>\n",
       "</table>\n",
       "</div>"
      ],
      "text/plain": [
       "   longitude  latitude  housing_median_age  total_rooms  total_bedrooms  \\\n",
       "0    -122.23     37.88                41.0        880.0           129.0   \n",
       "1    -122.22     37.86                21.0       7099.0          1106.0   \n",
       "2    -122.24     37.85                52.0       1467.0           190.0   \n",
       "3    -122.25     37.85                52.0       1274.0           235.0   \n",
       "4    -122.25     37.85                52.0       1627.0           280.0   \n",
       "\n",
       "   population  households  median_income  median_house_value ocean_proximity  \n",
       "0       322.0       126.0         8.3252            452600.0        NEAR BAY  \n",
       "1      2401.0      1138.0         8.3014            358500.0        NEAR BAY  \n",
       "2       496.0       177.0         7.2574            352100.0        NEAR BAY  \n",
       "3       558.0       219.0         5.6431            341300.0        NEAR BAY  \n",
       "4       565.0       259.0         3.8462            342200.0        NEAR BAY  "
      ]
     },
     "execution_count": 1,
     "metadata": {},
     "output_type": "execute_result"
    }
   ],
   "source": [
    "# Download dei dati\n",
    "from pathlib import Path\n",
    "import pandas as pd\n",
    "import tarfile\n",
    "import urllib.request\n",
    "\n",
    "def load_housing_data():\n",
    "    \"\"\"\n",
    "    Carica il dataset degli alloggi.\n",
    "\n",
    "    Output:\n",
    "    DataFrame: Un DataFrame di pandas contenente i dati degli alloggi.\n",
    "\n",
    "    Descrizione:\n",
    "    Questa funzione verifica se il file 'housing.tgz' esiste nel percorso specificato. \n",
    "    Se il file non esiste, lo scarica da un URL fornito, lo estrae e legge il file CSV \n",
    "    'housing.csv' da una directory specificata, restituendo infine i dati in un DataFrame di pandas.\n",
    "    \"\"\"\n",
    "\n",
    "    # Percorso del file tarball\n",
    "    tarball_path = Path(\"datasets/housing.tgz\")\n",
    "\n",
    "    # Se il file non esiste, scarica ed estrai i dati\n",
    "    if not tarball_path.is_file():\n",
    "        # Crea la directory se non esiste\n",
    "        Path(\"datasets\").mkdir(parents=True, exist_ok=True)\n",
    "        \n",
    "        # URL da cui scaricare i dati\n",
    "        url = \"https://github.com/ageron/data/raw/main/housing.tgz\"\n",
    "\n",
    "        # Scarica il file tarball\n",
    "        urllib.request.urlretrieve(url, tarball_path)\n",
    "\n",
    "        # Estrae il file tarball\n",
    "        with tarfile.open(tarball_path) as housing_tarball:\n",
    "            housing_tarball.extractall(path=\"datasets\")\n",
    "    \n",
    "    # Legge il file CSV e lo restituisce come un DataFrame\n",
    "    return pd.read_csv(Path(\"datasets/housing/housing.csv\"))\n",
    "\n",
    "housing = load_housing_data()\n",
    "housing.head()"
   ]
  },
  {
   "cell_type": "markdown",
   "metadata": {},
   "source": [
    "### Analisi e valutazione dei dati\n",
    "Significato di ciscuna colonna\n",
    "-   **longitude:** longitudine della posizione dell'alloggio\n",
    "-   **latitude:** latitudine della posizione dell'alloggio\n",
    "-   **housing_median_age:** età media degli alloggi nella zona\n",
    "-   **total_rooms:** numero totale di stanze nell'alloggio\n",
    "-   **total_bedrooms:** numero totale di camere da letto nell'alloggio\n",
    "-   **population:** popolazione totale nella zona\n",
    "-   **households:** numero totale di famiglie nella zona\n",
    "-   **median_income:** reddito medio delle famiglie nella zona\n",
    "-   **median_house_value:** valore medio delle case nella zona\n",
    "-   **ocean_proximity:** prossimità all'oceano"
   ]
  },
  {
   "cell_type": "markdown",
   "metadata": {},
   "source": [
    "### Creazione di un TestSet\n",
    "Prima guardare oltre nei dati e' molto importante separare una certa qauntita' di dati e metterla da parte senza toccarla. <br>\n",
    "Sarebbe importante che il test set sia mediamente rappresentativo di ciascun attributo. Se il dataset non e' molto grande potrebbe essere necessario crare un test set stratifiato.  "
   ]
  },
  {
   "cell_type": "markdown",
   "metadata": {},
   "source": [
    "### Exploring Data"
   ]
  },
  {
   "cell_type": "markdown",
   "metadata": {},
   "source": [
    "### Correlations"
   ]
  },
  {
   "cell_type": "code",
   "execution_count": null,
   "metadata": {},
   "outputs": [],
   "source": []
  },
  {
   "cell_type": "code",
   "execution_count": null,
   "metadata": {},
   "outputs": [],
   "source": []
  },
  {
   "cell_type": "code",
   "execution_count": null,
   "metadata": {},
   "outputs": [],
   "source": []
  },
  {
   "cell_type": "code",
   "execution_count": null,
   "metadata": {},
   "outputs": [],
   "source": []
  },
  {
   "cell_type": "code",
   "execution_count": null,
   "metadata": {},
   "outputs": [],
   "source": []
  },
  {
   "cell_type": "code",
   "execution_count": null,
   "metadata": {},
   "outputs": [],
   "source": []
  },
  {
   "cell_type": "code",
   "execution_count": null,
   "metadata": {},
   "outputs": [],
   "source": []
  },
  {
   "cell_type": "code",
   "execution_count": null,
   "metadata": {},
   "outputs": [],
   "source": []
  },
  {
   "cell_type": "code",
   "execution_count": null,
   "metadata": {},
   "outputs": [],
   "source": []
  },
  {
   "cell_type": "code",
   "execution_count": null,
   "metadata": {},
   "outputs": [],
   "source": []
  },
  {
   "cell_type": "code",
   "execution_count": null,
   "metadata": {},
   "outputs": [],
   "source": []
  },
  {
   "cell_type": "code",
   "execution_count": null,
   "metadata": {},
   "outputs": [],
   "source": []
  },
  {
   "cell_type": "code",
   "execution_count": null,
   "metadata": {},
   "outputs": [],
   "source": []
  },
  {
   "cell_type": "code",
   "execution_count": null,
   "metadata": {},
   "outputs": [],
   "source": []
  },
  {
   "cell_type": "markdown",
   "metadata": {},
   "source": []
  }
 ],
 "metadata": {
  "kernelspec": {
   "display_name": "AIDS_Base_310",
   "language": "python",
   "name": "python3"
  },
  "language_info": {
   "codemirror_mode": {
    "name": "ipython",
    "version": 3
   },
   "file_extension": ".py",
   "mimetype": "text/x-python",
   "name": "python",
   "nbconvert_exporter": "python",
   "pygments_lexer": "ipython3",
   "version": "3.10.13"
  }
 },
 "nbformat": 4,
 "nbformat_minor": 2
}
