{
 "cells": [
  {
   "cell_type": "markdown",
   "metadata": {
    "collapsed": true,
    "pycharm": {
     "name": "#%% md\n"
    }
   },
   "source": [
    "# Programmazione Euristica: il percorso del Cavallo.\n",
    "\n",
    "https://it.wikipedia.org/wiki/Percorso_del_cavallo\n",
    "\n",
    "Il percorso del cavallo è un problema matematico riguardante lo spostarsi di un cavallo su una scacchiera. Il cavallo è posizionato sulla scacchiera vuota e, spostandosi secondo le regole degli scacchi, deve occupare ogni casa esattamente una volta.<br>\n",
    "\n",
    "https://it.wikipedia.org/wiki/Cavallo_(scacchi)\n",
    " Il movimento del cavallo può essere immaginato come la somma di uno spostamento orizzontale di una casa e di uno verticale di due o viceversa, descrivendo una \"L\". Il cavallo è inoltre l'unico pezzo che, nei suoi movimenti, può attraversare anche caselle già occupate da altri pezzi: si dice che può \"saltare\". Si noti che a ogni mossa il cavallo cambia il colore della casa in cui si trova.<br>\n",
    "\n",
    "Dobbiamo scrivere uno script che muova il cavallo sulla scacchiera, rappresentata da un vettore 8x8, inizializzato a 0. Se posizionato al centro, il cavallo potra muoversi in 8 possibili caselle che possiamo numerare da 1 a 8 seguendo il senso orario dal :\n",
    "![image info](../assets/cavallo.jpg)\n",
    "\n",
    "Descriviamo le possibili mosse del cavallo su una tupla (h - orizzontale, v - verticale) contente l'incremento lungo gli assi h e v: ad esempio, facendo riferimento alla foto sopra, dala posizione in cui si trova il cavallo (h=3,v=4), per spostarsi nella posizione 1, in (h=5, v=3), faremo riferimento alla tupla (+2,-1) (due a destra, una in su).\n"
   ]
  },
  {
   "cell_type": "code",
   "execution_count": 85,
   "outputs": [],
   "source": [
    "# Rappresentiamo la Scacchiera come un array bidimensionale 8x8 chimato `board`:\n",
    "# Importiamo le librerie standard di python che ci serviranno in questo progetto:\n",
    "import random\n",
    "import collections\n",
    "\n",
    "# Le librerie dei framework specifici:\n",
    "import matplotlib.pyplot as plt # Motore grafico di python per realizzare diagrammi e fuznoni\n",
    "import numpy as np # Libreria che gestisce ad altissima efficienza gli array\n",
    "import seaborn as sns # Libreria che usa il motore grafico di MatplotLib con funzionalita' grafiche avanzate"
   ],
   "metadata": {
    "collapsed": false,
    "pycharm": {
     "name": "#%%\n"
    }
   }
  },
  {
   "cell_type": "markdown",
   "source": [
    "Rappresentiamo la scacchiera con un array bidimensionale 8x8 riempito di Zeri. Il cavallo si muove nella scacchiera partendo da una casella che verra' marcata col numero 1. Teniamo traccia degli spostamenti del cavallo incrementando di 1 ogni passaggio, ottenendo dunque un array di questo tipo:\n",
    "'''\n",
    "array([[ 0.,  0.,  0.,  0.,  0.,  0.,  0.,  0.],\n",
    "       [ 0.,  0.,  0.,  0.,  0.,  0.,  0.,  0.],\n",
    "       [ 0.,  0.,  3.,  0.,  0.,  0.,  0.,  0.],\n",
    "       [ 4.,  0.,  8.,  0.,  2., 17.,  0.,  0.],\n",
    "       [ 7.,  0.,  5.,  0.,  0.,  0., 13.,  0.],\n",
    "       [ 0.,  9.,  0.,  1., 18., 11., 16.,  0.],\n",
    "       [ 0.,  6.,  0., 10.,  0., 14.,  0., 12.],\n",
    "       [ 0.,  0.,  0.,  0.,  0., 19.,  0., 15.]])\n",
    "'''\n",
    "Da questo array si possono vedere tutti i salti che ha fatto il cavallo ha fatto 19 salti (sui 64 possibili) prima di non riuscire piu' a muoversi su caselle mai toccate.\n"
   ],
   "metadata": {
    "collapsed": false,
    "pycharm": {
     "name": "#%% md\n"
    }
   }
  },
  {
   "cell_type": "code",
   "execution_count": null,
   "outputs": [],
   "source": [
    "# Scriviamo una funzione che inizializzi il gioco, creando una \"board\" e posizionando il cavallo nella sua posizione iniziale.\n",
    "# Consideriamo la possibilita' di far partire il cavallo da una delle sue posizioni \"standard\"\n",
    "# o da una posizione casuale nella scacchiera:\n",
    "\n",
    "def initialize_game(horse_default_position=True):\n",
    "\n",
    "    # return board\n",
    "    pass\n",
    "\n",
    "# Scrviamo una funzione che legge una board e restituisce:\n",
    "# - il numero di mosse raggunto dal cavallo\n",
    "# - una tupla con la posizione attuale, orizzontale e verticale\n",
    "def get_horse_current_position(board):\n",
    "\n",
    "    # return current_move_number, (current_h, current_v)\n",
    "    pass\n",
    "\n",
    "# Scriviamo una funzione che legge una board e restituisce una lista delle possibili mosse disponibili\n",
    "def get_available_moves(board):\n",
    "\n",
    "    # return available_moves\n",
    "    pass\n",
    "\n",
    "# Scriviamo una funzione che date le mosse a disposizione, ne sceglie casualmente una e la restituisce\n",
    "def random_move(available_moves):\n",
    "\n",
    "    # return a_random_move\n",
    "    pass\n",
    "\n",
    "# Scriviamo una funzione che legge una board e fa fare al cavallo una mossa scegliendo tra le disponibili casualmente\n",
    "\n",
    "def move_horse(board):\n",
    "\n",
    "    # return board\n",
    "    pass\n",
    "\n",
    "# Scriviamo una funzione che gioca una partita completa sino a che il cavallo non puo' piu' muoversi\n",
    "# A fine partita, se il parametro \"verbose\" e' impostato su true, stampa a video la board.\n",
    "# Restituisce la board\n",
    "def play_one_game(verbose = False, horse_default_start_position = True):\n",
    "\n",
    "    # return board\n",
    "    pass\n",
    "\n",
    "# Scriviamo una funzione che gioca n partite e restituisce un po' di statistiche:\n",
    "# - Numero partite vinte o miglior partita,\n",
    "# - Board completate o miglior Board\n",
    "# - Punteggio raggiunto in media e mediana,\n",
    "# - Frequenza di occupazione di alcune caselle nella board\n",
    "# - vvee\n",
    "def play_multiple_games(n= 10, verbose = False, horse_default_start_position = True):\n",
    "\n",
    "    # return statistics\n",
    "    pass\n",
    "\n",
    "\n",
    "\n",
    "\n",
    "\n",
    "\n",
    "\n"
   ],
   "metadata": {
    "collapsed": false,
    "pycharm": {
     "name": "#%%\n"
    }
   }
  }
 ],
 "metadata": {
  "kernelspec": {
   "display_name": "Python 3",
   "language": "python",
   "name": "python3"
  },
  "language_info": {
   "codemirror_mode": {
    "name": "ipython",
    "version": 2
   },
   "file_extension": ".py",
   "mimetype": "text/x-python",
   "name": "python",
   "nbconvert_exporter": "python",
   "pygments_lexer": "ipython2",
   "version": "2.7.6"
  }
 },
 "nbformat": 4,
 "nbformat_minor": 0
}